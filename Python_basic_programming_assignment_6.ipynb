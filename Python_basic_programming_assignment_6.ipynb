{
 "cells": [
  {
   "cell_type": "raw",
   "metadata": {},
   "source": [
    "Write a Python Program to Display Fibonacci Sequence Using Recursion?\n",
    "Write a Python Program to Find Factorial of Number Using Recursion?\n",
    "Write a Python Program to calculate your Body Mass Index?\n",
    "Write a Python Program to calculate the natural logarithm of any number?\n",
    "Write a Python Program for cube sum of first n natural numbers?"
   ]
  },
  {
   "cell_type": "code",
   "execution_count": null,
   "metadata": {},
   "outputs": [],
   "source": [
    "Q1. Write a Python Program to Display Fibonacci Sequence Using Recursion?"
   ]
  },
  {
   "cell_type": "code",
   "execution_count": 28,
   "metadata": {},
   "outputs": [
    {
     "name": "stdout",
     "output_type": "stream",
     "text": [
      "enter the number : 12\n",
      "0\n",
      "1\n",
      "1\n",
      "2\n",
      "3\n",
      "5\n",
      "8\n",
      "13\n",
      "21\n",
      "34\n",
      "55\n",
      "89\n",
      "144\n"
     ]
    }
   ],
   "source": [
    "# Recursion used for printing fibonacci Series\n",
    "def fiib(n):\n",
    "    a,b = 0,1\n",
    "    print(a)\n",
    "    for i in range(n):\n",
    "        a,b=b,a+b\n",
    "        print(a)\n",
    "    \n",
    "# Driver code for fiib function\n",
    "n = int(input(\"enter the number : \"))\n",
    "fiib(n)"
   ]
  },
  {
   "cell_type": "raw",
   "metadata": {},
   "source": [
    "Q2. Write a Python Program to Find Factorial of Number Using Recursion?"
   ]
  },
  {
   "cell_type": "code",
   "execution_count": 25,
   "metadata": {},
   "outputs": [
    {
     "name": "stdout",
     "output_type": "stream",
     "text": [
      "Enter the number : 5\n"
     ]
    },
    {
     "data": {
      "text/plain": [
       "120"
      ]
     },
     "execution_count": 25,
     "metadata": {},
     "output_type": "execute_result"
    }
   ],
   "source": [
    "# Recursion used for printing Factorial\n",
    "def faact(n):\n",
    "    k=1\n",
    "    for i in range(1,n+1):\n",
    "        k=k*i\n",
    "    return k\n",
    "\n",
    "# Driver code for faact function\n",
    "n = int(input(\"Enter the number : \"))\n",
    "faact(n)"
   ]
  },
  {
   "cell_type": "raw",
   "metadata": {},
   "source": [
    "Q3. Write a Python Program to calculate your Body Mass Index?"
   ]
  },
  {
   "cell_type": "code",
   "execution_count": 34,
   "metadata": {},
   "outputs": [
    {
     "name": "stdout",
     "output_type": "stream",
     "text": [
      "Enter the weight in kilograms : 84\n",
      "Enter the height in meters : 1.75\n",
      "Body is overwieght\n"
     ]
    }
   ],
   "source": [
    "# Recursion used for BMI\n",
    "def bmi(w,h):\n",
    "    k = w/(h*h)\n",
    "    return k\n",
    "\n",
    "# Driver code for BMI function\n",
    "w = float(input(\"Enter the weight in kilograms : \"))\n",
    "h = float(input(\"Enter the height in meters : \"))\n",
    "\n",
    "t= bmi(w,h)\n",
    "\n",
    "if t < 18.5:\n",
    "    print(\"Body is underweight!!!! \")\n",
    "\n",
    "elif t >=18.5 and t<=24.9:\n",
    "    print(\"Body weight is normal \")\n",
    "\n",
    "elif t >=25 and t<=29.9:\n",
    "    print(\"Body is overweight\")\n",
    "\n",
    "elif t >= 30 and t<=34.9:\n",
    "    print(\"Body is obese!!!!!\")\n",
    "\n",
    "else:\n",
    "    print(\"Extremely obese \")"
   ]
  },
  {
   "cell_type": "raw",
   "metadata": {},
   "source": [
    "Q4. Write a Python Program to calculate the natural logarithm of any number?"
   ]
  },
  {
   "cell_type": "code",
   "execution_count": 35,
   "metadata": {},
   "outputs": [],
   "source": [
    "import math"
   ]
  },
  {
   "cell_type": "code",
   "execution_count": 38,
   "metadata": {},
   "outputs": [
    {
     "name": "stdout",
     "output_type": "stream",
     "text": [
      "Enter number : 5.36\n"
     ]
    },
    {
     "data": {
      "text/plain": [
       "1.6789639750827108"
      ]
     },
     "execution_count": 38,
     "metadata": {},
     "output_type": "execute_result"
    }
   ],
   "source": [
    "n = float(input(\"Enter number : \"))\n",
    "math.log(n)"
   ]
  },
  {
   "cell_type": "raw",
   "metadata": {},
   "source": [
    "Q5. Write a Python Program for cube sum of first n natural numbers?"
   ]
  },
  {
   "cell_type": "code",
   "execution_count": 71,
   "metadata": {},
   "outputs": [
    {
     "name": "stdout",
     "output_type": "stream",
     "text": [
      "Enter n : 100\n"
     ]
    },
    {
     "data": {
      "text/plain": [
       "25502500"
      ]
     },
     "execution_count": 71,
     "metadata": {},
     "output_type": "execute_result"
    }
   ],
   "source": [
    "# Recursion used for cube caluculation\n",
    "def cub(n):\n",
    "    k=[]\n",
    "    j=[]\n",
    "    s=0\n",
    "    for i in range(1,n+1):\n",
    "        k.append(i*i*i)\n",
    "    for j in k:\n",
    "        s = s+j\n",
    "    return s\n",
    "\n",
    "# Driver code for cube function\n",
    "n= int(input(\"Enter n : \"))\n",
    "cub(n)\n",
    "\n"
   ]
  }
 ],
 "metadata": {
  "kernelspec": {
   "display_name": "Python 3",
   "language": "python",
   "name": "python3"
  },
  "language_info": {
   "codemirror_mode": {
    "name": "ipython",
    "version": 3
   },
   "file_extension": ".py",
   "mimetype": "text/x-python",
   "name": "python",
   "nbconvert_exporter": "python",
   "pygments_lexer": "ipython3",
   "version": "3.8.5"
  }
 },
 "nbformat": 4,
 "nbformat_minor": 4
}
