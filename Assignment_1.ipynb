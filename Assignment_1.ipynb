{
 "cells": [
  {
   "cell_type": "markdown",
   "metadata": {},
   "source": [
    "Q1. Write a Python program to print \"Hello Python\"?"
   ]
  },
  {
   "cell_type": "code",
   "execution_count": 1,
   "metadata": {},
   "outputs": [
    {
     "name": "stdout",
     "output_type": "stream",
     "text": [
      "Hello Python\n"
     ]
    }
   ],
   "source": [
    "print(\"Hello Python\")"
   ]
  },
  {
   "cell_type": "markdown",
   "metadata": {},
   "source": [
    "Q2. Write a Python program to do arithmetical operations addition and division.?"
   ]
  },
  {
   "cell_type": "code",
   "execution_count": 6,
   "metadata": {},
   "outputs": [
    {
     "name": "stdout",
     "output_type": "stream",
     "text": [
      "Enter first number : 6\n",
      "Enter second number : 0\n",
      "6.0\n",
      "can not divide a by b\n",
      "Program completes !\n"
     ]
    }
   ],
   "source": [
    "a = float(input(\"Enter first number : \"))\n",
    "b = float(input(\"Enter second number : \"))\n",
    "add_result = a+b \n",
    "print(add_result)\n",
    "if b ==0:\n",
    "    print(\"can not divide a by b\")\n",
    "else :\n",
    "    div_result = a/b\n",
    "    print(div_result)\n",
    "print(\"Program completed successfully !\")"
   ]
  },
  {
   "cell_type": "raw",
   "metadata": {},
   "source": [
    "Q3. Write a Python program to find the area of a triangle?"
   ]
  },
  {
   "cell_type": "code",
   "execution_count": 8,
   "metadata": {},
   "outputs": [
    {
     "name": "stdout",
     "output_type": "stream",
     "text": [
      "Enter height of triangle : 9\n",
      "Enter base of triangle : 6\n",
      "Area of triangle is :  27.0\n",
      "Program completed successfully !\n"
     ]
    }
   ],
   "source": [
    "h = float(input(\"Enter height of triangle : \"))\n",
    "b = float(input(\"Enter base of triangle : \"))\n",
    "area = .5*h*b\n",
    "print(\"Area of triangle is : \",area)\n",
    "print(\"Program completed successfully !\")"
   ]
  },
  {
   "cell_type": "raw",
   "metadata": {},
   "source": [
    "Q4. Write a Python program to swap two variables?"
   ]
  },
  {
   "cell_type": "code",
   "execution_count": 14,
   "metadata": {},
   "outputs": [
    {
     "name": "stdout",
     "output_type": "stream",
     "text": [
      "Enter first number : 10\n",
      "Enter second number : 100\n",
      "Numbers before swapping :  10.0 \n",
      " 100.0\n",
      "Numbers after swapping are : 100.0 \n",
      " 10.0\n"
     ]
    }
   ],
   "source": [
    "a = float(input(\"Enter first number : \"))\n",
    "b = float(input(\"Enter second number : \"))\n",
    "print(\"Numbers before swapping : \",a,\"\\n\",b)\n",
    "a = a+b\n",
    "b = a-b\n",
    "a = a-b\n",
    "print(\"Numbers after swapping are :\",a,\"\\n\",b)"
   ]
  },
  {
   "cell_type": "raw",
   "metadata": {},
   "source": [
    "Q5. Write a Python program to generate a random number?"
   ]
  },
  {
   "cell_type": "code",
   "execution_count": 20,
   "metadata": {},
   "outputs": [
    {
     "name": "stdout",
     "output_type": "stream",
     "text": [
      "648\n"
     ]
    }
   ],
   "source": [
    "import random\n",
    "\n",
    "print(random.randint(0,1000))"
   ]
  }
 ],
 "metadata": {
  "kernelspec": {
   "display_name": "Python 3",
   "language": "python",
   "name": "python3"
  },
  "language_info": {
   "codemirror_mode": {
    "name": "ipython",
    "version": 3
   },
   "file_extension": ".py",
   "mimetype": "text/x-python",
   "name": "python",
   "nbconvert_exporter": "python",
   "pygments_lexer": "ipython3",
   "version": "3.8.5"
  }
 },
 "nbformat": 4,
 "nbformat_minor": 4
}
