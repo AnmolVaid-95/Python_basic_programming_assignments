{
 "cells": [
  {
   "cell_type": "markdown",
   "metadata": {},
   "source": [
    "Question 1:\n",
    "Please write a program using generator to print the numbers which can be divisible by 5 and 7 between 0 and n in comma separated form while n is input by console.\n",
    "Example:\n",
    "If the following n is given as input to the program:\n",
    "100\n",
    "Then, the output of the program should be:\n",
    "0,35,70\n"
   ]
  },
  {
   "cell_type": "code",
   "execution_count": 7,
   "metadata": {},
   "outputs": [
    {
     "name": "stdout",
     "output_type": "stream",
     "text": [
      "The value of integer : 100\n",
      "35 70 "
     ]
    }
   ],
   "source": [
    "\n",
    "def NumGen(n):\n",
    "    for j in range(1, n+1):\n",
    "        if j % 5 == 0 and j % 7 == 0:\n",
    "            yield j\n",
    "\n",
    "if __name__ == \"__main__\":\n",
    "    N = int(input(\"The value of integer : \"))\n",
    "    for j in NumGen(N):\n",
    "        print(j, end = \" \")\n"
   ]
  },
  {
   "cell_type": "code",
   "execution_count": null,
   "metadata": {},
   "outputs": [],
   "source": []
  },
  {
   "cell_type": "markdown",
   "metadata": {},
   "source": [
    "Question 2:\n",
    "Please write a program using generator to print the even numbers between 0 and n in comma separated form while n is input by console.\n",
    "Example:\n",
    "If the following n is given as input to the program:\n",
    "10\n",
    "Then, the output of the program should be:\n",
    "0,2,4,6,8,10\n"
   ]
  },
  {
   "cell_type": "code",
   "execution_count": 25,
   "metadata": {},
   "outputs": [],
   "source": [
    "def even():\n",
    "    n = int(input(\"Enter the value of integer : \"))\n",
    "    l = []\n",
    "    for i in range(n+1):\n",
    "        if i%2==0:\n",
    "            l.append(i)\n",
    "    yield l"
   ]
  },
  {
   "cell_type": "code",
   "execution_count": 26,
   "metadata": {},
   "outputs": [],
   "source": [
    "a = even()"
   ]
  },
  {
   "cell_type": "code",
   "execution_count": 27,
   "metadata": {},
   "outputs": [
    {
     "name": "stdout",
     "output_type": "stream",
     "text": [
      "Enter the value of integer : 10\n",
      "[0, 2, 4, 6, 8, 10] "
     ]
    }
   ],
   "source": [
    "for j in a:\n",
    "    print(j,end= ' ')"
   ]
  },
  {
   "cell_type": "code",
   "execution_count": null,
   "metadata": {},
   "outputs": [],
   "source": []
  },
  {
   "cell_type": "markdown",
   "metadata": {},
   "source": [
    "Question 3:\n",
    "The Fibonacci Sequence is computed based on the following formula:\n",
    "f(n)=0 if n=0\n",
    "f(n)=1 if n=1\n",
    "f(n)=f(n-1)+f(n-2) if n>1\n",
    "Please write a program using list comprehension to print the Fibonacci Sequence in comma separated form with a given n input by console.\n",
    "Example:\n",
    "If the following n is given as input to the program:\n",
    "7\n",
    "\n",
    "Then, the output of the program should be:\n",
    "0,1,1,2,3,5,8,13"
   ]
  },
  {
   "cell_type": "code",
   "execution_count": 31,
   "metadata": {},
   "outputs": [
    {
     "name": "stdout",
     "output_type": "stream",
     "text": [
      "Enter the value of integer : 7\n",
      "[0, 1, 1, 2, 3, 5, 8, 13]\n"
     ]
    }
   ],
   "source": [
    "n=int(input(\"Enter the value of integer : \"))\n",
    "mylist=[0,1]  \n",
    "[mylist.append(mylist[-2]+mylist[-1]) for n in range(n-1)]\n",
    "print(mylist)  "
   ]
  },
  {
   "cell_type": "code",
   "execution_count": null,
   "metadata": {},
   "outputs": [],
   "source": []
  },
  {
   "cell_type": "markdown",
   "metadata": {},
   "source": [
    "Question 4:\n",
    "Assuming that we have some email addresses in the \"username@companyname.com\" format, please write program to print the user name of a given email address. Both user names and company names are composed of letters only.\n",
    "Example:\n",
    "If the following email address is given as input to the program:\n",
    "john@google.com\n",
    "Then, the output of the program should be:\n",
    "john\n"
   ]
  },
  {
   "cell_type": "code",
   "execution_count": 74,
   "metadata": {},
   "outputs": [
    {
     "name": "stdout",
     "output_type": "stream",
     "text": [
      "Enter the email address of user : john@google.com\n"
     ]
    }
   ],
   "source": [
    "a = input(\"Enter the email address of user : \")"
   ]
  },
  {
   "cell_type": "code",
   "execution_count": 75,
   "metadata": {},
   "outputs": [
    {
     "data": {
      "text/plain": [
       "['j', 'o', 'h', 'n']"
      ]
     },
     "execution_count": 75,
     "metadata": {},
     "output_type": "execute_result"
    }
   ],
   "source": [
    "l = []\n",
    "for i in a:\n",
    "    if i!='@':\n",
    "        l.append(i)\n",
    "    elif i =='@':\n",
    "        break\n",
    "l"
   ]
  },
  {
   "cell_type": "code",
   "execution_count": 76,
   "metadata": {},
   "outputs": [
    {
     "name": "stdout",
     "output_type": "stream",
     "text": [
      "john\n"
     ]
    }
   ],
   "source": [
    "s=(\"\".join(l))\n",
    "print(s)"
   ]
  },
  {
   "cell_type": "code",
   "execution_count": null,
   "metadata": {},
   "outputs": [],
   "source": []
  },
  {
   "cell_type": "markdown",
   "metadata": {},
   "source": [
    "Question 5:\n",
    "Define a class named Shape and its subclass Square. The Square class has an init function which takes a length as argument. Both classes have a area function which can print the area of the shape where Shape's area is 0 by default.\n"
   ]
  },
  {
   "cell_type": "code",
   "execution_count": 78,
   "metadata": {},
   "outputs": [
    {
     "name": "stdout",
     "output_type": "stream",
     "text": [
      "Enter the integer : 9\n",
      "81\n"
     ]
    }
   ],
   "source": [
    "class Shape(object):\n",
    "    def __init__(self):\n",
    "        pass\n",
    "\n",
    "    def area(self):\n",
    "        return 0\n",
    "\n",
    "class Square(Shape):\n",
    "    def __init__(self, l):\n",
    "        Shape.__init__(self)\n",
    "        self.length = l\n",
    "\n",
    "    def area(self):\n",
    "        return self.length*self.length\n",
    "\n",
    "n = int(input(\"Enter the integer : \"))\n",
    "aSquare= Square(n)\n",
    "print(aSquare.area())"
   ]
  }
 ],
 "metadata": {
  "kernelspec": {
   "display_name": "Python 3",
   "language": "python",
   "name": "python3"
  },
  "language_info": {
   "codemirror_mode": {
    "name": "ipython",
    "version": 3
   },
   "file_extension": ".py",
   "mimetype": "text/x-python",
   "name": "python",
   "nbconvert_exporter": "python",
   "pygments_lexer": "ipython3",
   "version": "3.8.5"
  }
 },
 "nbformat": 4,
 "nbformat_minor": 4
}
