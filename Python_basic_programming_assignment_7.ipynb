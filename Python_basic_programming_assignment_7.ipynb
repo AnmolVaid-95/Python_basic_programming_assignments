{
 "cells": [
  {
   "cell_type": "raw",
   "metadata": {},
   "source": [
    "Write a Python Program to find sum of array?\n",
    "Write a Python Program to find largest element in an array?\n",
    "Write a Python Program for array rotation?\n",
    "Write a Python Program to Split the array and add the first part to the end?\n",
    "Write a Python Program to check if given array is Monotonic?"
   ]
  },
  {
   "cell_type": "raw",
   "metadata": {},
   "source": [
    "Q1. Write a Python Program to find sum of array?"
   ]
  },
  {
   "cell_type": "code",
   "execution_count": 8,
   "metadata": {},
   "outputs": [
    {
     "data": {
      "text/plain": [
       "129.5"
      ]
     },
     "execution_count": 8,
     "metadata": {},
     "output_type": "execute_result"
    }
   ],
   "source": [
    "# Recursion used for asum function which will add elements \n",
    "# we assumed that ony integer will be entered \n",
    "def asum(*args):\n",
    "    s = 0\n",
    "    for i in args:\n",
    "        s = s+i\n",
    "    return s\n",
    "# calling function\n",
    "asum(1,2,3,4,54,60,5.5)"
   ]
  },
  {
   "cell_type": "markdown",
   "metadata": {},
   "source": [
    "Q2. Write a Python Program to find largest element in an array?"
   ]
  },
  {
   "cell_type": "code",
   "execution_count": 12,
   "metadata": {},
   "outputs": [
    {
     "data": {
      "text/plain": [
       "666"
      ]
     },
     "execution_count": 12,
     "metadata": {},
     "output_type": "execute_result"
    }
   ],
   "source": [
    "# Recursion used for elements tarversing\n",
    "def large(*args):\n",
    "    large = 0\n",
    "    for i in args:\n",
    "        if large < i:\n",
    "            large =i\n",
    "    return large \n",
    "\n",
    "# calling function\n",
    "\n",
    "large(1,2,3,4,55,6,34,666,66)"
   ]
  },
  {
   "cell_type": "markdown",
   "metadata": {},
   "source": [
    "Q3. Write a Python Program for array rotation?"
   ]
  },
  {
   "cell_type": "code",
   "execution_count": 30,
   "metadata": {},
   "outputs": [
    {
     "name": "stdout",
     "output_type": "stream",
     "text": [
      "[11, 22, 33, 44, 55, 66]\n",
      "Rotated list is\n",
      "[33, 44, 55, 66, 11, 22]\n"
     ]
    }
   ],
   "source": [
    "# Recursion for rotating list elements\n",
    "def rotateList(arr,d,n):\n",
    "    arr[:]=arr[d:n]+arr[0:d]\n",
    "    return arr\n",
    "\n",
    "# Driver function \n",
    "arr = [11, 22, 33, 44, 55, 66]\n",
    "print(arr)\n",
    "print(\"Rotated list is\")\n",
    "print(rotateList(arr,2,len(arr)))"
   ]
  },
  {
   "cell_type": "markdown",
   "metadata": {},
   "source": [
    "Q4. Write a Python Program to Split the array and add the first part to the end?"
   ]
  },
  {
   "cell_type": "code",
   "execution_count": 1,
   "metadata": {},
   "outputs": [
    {
     "name": "stdout",
     "output_type": "stream",
     "text": [
      "333 444 555 666 777 888 999 111 222 "
     ]
    }
   ],
   "source": [
    "# Recursion part\n",
    "def spArr(a, n, k):\n",
    "    b = a[:k]\n",
    "    return (a[k::]+b[::])\n",
    "\n",
    "\n",
    "\n",
    "arr = [111,222,333,444,555,666,777,888,999]\n",
    "n = len(arr)\n",
    "position = 2\n",
    "arr = spArr(arr, n, position)\n",
    "for i in range(0, n):\n",
    "    print(arr[i], end = ' ')\n"
   ]
  },
  {
   "cell_type": "raw",
   "metadata": {},
   "source": [
    "Q4. Write a Python Program to check if given array is Monotonic? "
   ]
  },
  {
   "cell_type": "code",
   "execution_count": 37,
   "metadata": {},
   "outputs": [
    {
     "name": "stdout",
     "output_type": "stream",
     "text": [
      "False\n"
     ]
    }
   ],
   "source": [
    "# Python3 program to find sum in Nth group\n",
    "\n",
    "# Check if given array is Monotonic\n",
    "def isMonotonic(A):\n",
    "\n",
    "    return (all(A[i] <= A[i + 1] for i in range(len(A) - 1)) or\n",
    "            all(A[i] >= A[i + 1] for i in range(len(A) - 1)))\n",
    "\n",
    "# Driver program\n",
    "A = [1,2,3,44,5,6]\n",
    "\n",
    "# Print required result\n",
    "print(isMonotonic(A))"
   ]
  }
 ],
 "metadata": {
  "kernelspec": {
   "display_name": "Python 3",
   "language": "python",
   "name": "python3"
  },
  "language_info": {
   "codemirror_mode": {
    "name": "ipython",
    "version": 3
   },
   "file_extension": ".py",
   "mimetype": "text/x-python",
   "name": "python",
   "nbconvert_exporter": "python",
   "pygments_lexer": "ipython3",
   "version": "3.8.5"
  }
 },
 "nbformat": 4,
 "nbformat_minor": 4
}
