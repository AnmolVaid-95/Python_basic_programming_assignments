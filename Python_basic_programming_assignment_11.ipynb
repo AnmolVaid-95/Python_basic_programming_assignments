{
 "cells": [
  {
   "cell_type": "markdown",
   "metadata": {},
   "source": [
    "Write a Python program to find words which are greater than given length k?\n",
    "Write a Python program for removing i-th character from a string?\n",
    "Write a Python program to split and join a string?\n",
    "Write a Python to check if a given string is binary string or not?\n",
    "Write a Python program to find uncommon words from two Strings?\n",
    "Write a Python to find all duplicate characters in string?\n",
    "Write a Python Program to check if a string contains any special character?"
   ]
  },
  {
   "cell_type": "markdown",
   "metadata": {},
   "source": [
    "Q1. Write a Python program to find words which are greater than given length k?"
   ]
  },
  {
   "cell_type": "code",
   "execution_count": 8,
   "metadata": {},
   "outputs": [
    {
     "name": "stdout",
     "output_type": "stream",
     "text": [
      "Enter the lenght k :3\n",
      "Enter Number of words you want to enter : 5\n",
      "asd\n",
      "qwe\n",
      "sdfg\n",
      "fjr\n",
      "teyj\n",
      "The with word same length is :  asd\n",
      "The with word same length is :  qwe\n",
      "The with word same length is :  fjr\n"
     ]
    }
   ],
   "source": [
    "# This function will ask user to input the length of list that user wish to input\n",
    "# After entering the lenght let suppose 5, Then user will be propmted to give 5 inputs of str\n",
    "def in_el():\n",
    "    l=[]\n",
    "    n=int(input(\"Enter Number of words you want to enter : \"))\n",
    "    for i in range(0,n):\n",
    "        a = input()\n",
    "        l.append(a)\n",
    "    return l\n",
    "\n",
    "# k variable will take input from user, this str length will be calculated and will be compared with other strings \n",
    "k = int(input(\"Enter the lenght k :\"))\n",
    "t=[]\n",
    "t=in_el()\n",
    "t\n",
    "\n",
    "# with for loop we will iterate and see which sting's length is equal to lenght of k string.\n",
    "# equal lenght string will be printed\n",
    "for j in t:\n",
    "    if len(j)==k:\n",
    "        print(\"The with word same length is : \",j)\n",
    "\n"
   ]
  },
  {
   "cell_type": "raw",
   "metadata": {},
   "source": [
    "Q2. Write a Python program for removing i-th character from a string?"
   ]
  },
  {
   "cell_type": "code",
   "execution_count": 20,
   "metadata": {},
   "outputs": [
    {
     "name": "stdout",
     "output_type": "stream",
     "text": [
      "Enter the string:anmol\n",
      "Enter the character that you wish to remove : n\n",
      "amol"
     ]
    }
   ],
   "source": [
    "def in_el():\n",
    "    n=input(\"Enter the string:\")\n",
    "    k=input(\"Enter the character that you wish to remove : \")\n",
    "    for i in n:\n",
    "        if i != k:\n",
    "            print(i,end=\"\")\n",
    "            \n",
    "\n",
    "in_el()"
   ]
  },
  {
   "cell_type": "raw",
   "metadata": {},
   "source": [
    "Q3. Write a Python program to split and join a string?"
   ]
  },
  {
   "cell_type": "code",
   "execution_count": 33,
   "metadata": {},
   "outputs": [
    {
     "name": "stdout",
     "output_type": "stream",
     "text": [
      "Enter the string :my name is anmol\n",
      "String after split operation : ['my', 'name', 'is', 'anmol']\n"
     ]
    },
    {
     "data": {
      "text/plain": [
       "'my-name-is-anmol'"
      ]
     },
     "execution_count": 33,
     "metadata": {},
     "output_type": "execute_result"
    }
   ],
   "source": [
    "a = input(\"Enter the string :\")\n",
    "b = a.split(' ')\n",
    "print(\"String after split operation :\",b)\n",
    "\n",
    "k = '-'.join(b)\n",
    "k"
   ]
  },
  {
   "cell_type": "raw",
   "metadata": {},
   "source": [
    "Q4. Write a Python to check if a given string is binary string or not?"
   ]
  },
  {
   "cell_type": "code",
   "execution_count": 54,
   "metadata": {},
   "outputs": [
    {
     "name": "stdout",
     "output_type": "stream",
     "text": [
      "Enter the string : 101010\n",
      "Yes\n"
     ]
    }
   ],
   "source": [
    "def check(string) :\n",
    "\n",
    "    p = set(string)\n",
    "\n",
    "    s = {'0', '1'}\n",
    "\n",
    "\n",
    "    if s == p or p == {'0'} or p == {'1'}:\n",
    "        print(\"Yes\")\n",
    "    else :\n",
    "        print(\"No\")\n",
    "\n",
    "\n",
    "if __name__ == \"__main__\" :\n",
    "\n",
    "    string = input(\"Enter the string : \")\n",
    "\n",
    "    \n",
    "    check(string)\n"
   ]
  },
  {
   "cell_type": "raw",
   "metadata": {},
   "source": [
    "Q5. Write a Python program to find uncommon words from two Strings?"
   ]
  },
  {
   "cell_type": "code",
   "execution_count": null,
   "metadata": {},
   "outputs": [],
   "source": []
  },
  {
   "cell_type": "raw",
   "metadata": {},
   "source": [
    "Q6. Write a Python to find all duplicate characters in string?"
   ]
  },
  {
   "cell_type": "code",
   "execution_count": 57,
   "metadata": {},
   "outputs": [
    {
     "name": "stdout",
     "output_type": "stream",
     "text": [
      "Enter string : my name is anmol. my last name is vaid\n",
      "Duplicate characters in a given string: \n",
      "mynaeisl"
     ]
    }
   ],
   "source": [
    "string = input(\"Enter string : \");  \n",
    "   \n",
    "print(\"Duplicate characters in a given string: \");  \n",
    "#Counts each character present in the string  \n",
    "for i in range(0, len(string)):  \n",
    "    count = 1;  \n",
    "    for j in range(i+1, len(string)):  \n",
    "        if(string[i] == string[j] and string[i] != ' '):  \n",
    "            count = count + 1;  \n",
    "            #Set string[j] to 0 to avoid printing visited character  \n",
    "            string = string[:j] + '0' + string[j+1:];  \n",
    "   \n",
    "    #A character is considered as duplicate if count is greater than 1  \n",
    "    if(count > 1 and string[i] != '0'):  \n",
    "        print(string[i],end=\" \");"
   ]
  },
  {
   "cell_type": "raw",
   "metadata": {},
   "source": [
    "Q7. Write a Python Program to check if a string contains any special character?"
   ]
  },
  {
   "cell_type": "code",
   "execution_count": 58,
   "metadata": {},
   "outputs": [
    {
     "name": "stdout",
     "output_type": "stream",
     "text": [
      "Enter the string: \" !\"#$%&'()*+,-./:;<=>?@[\\]^_`{|}~\"\n",
      "The special character is :  \"\n",
      "The special character is :   \n",
      "The special character is :  !\n",
      "The special character is :  \"\n",
      "The special character is :  #\n",
      "The special character is :  $\n",
      "The special character is :  %\n",
      "The special character is :  &\n",
      "The special character is :  '\n",
      "The special character is :  (\n",
      "The special character is :  )\n",
      "The special character is :  *\n",
      "The special character is :  +\n",
      "The special character is :  ,\n",
      "The special character is :  -\n",
      "The special character is :  .\n",
      "The special character is :  /\n",
      "The special character is :  :\n",
      "The special character is :  ;\n",
      "The special character is :  <\n",
      "The special character is :  =\n",
      "The special character is :  >\n",
      "The special character is :  ?\n",
      "The special character is :  @\n",
      "The special character is :  [\n",
      "The special character is :  \\\n",
      "The special character is :  ]\n",
      "The special character is :  ^\n",
      "The special character is :  _\n",
      "The special character is :  `\n",
      "The special character is :  {\n",
      "The special character is :  |\n",
      "The special character is :  }\n",
      "The special character is :  ~\n",
      "The special character is :  \"\n"
     ]
    }
   ],
   "source": [
    "a = input(\"Enter the string: \")\n",
    "\n",
    "for i in a:\n",
    "    if i == ' ' or '!' or '@' or '#' or '$' or '%' or '^' or '*' or '\"' or \"'\" or '(' or ')' or '{' or '}' or '`' or '~' or '[' or ']' or '=' or '<' or '>' or '?' or '|' or \"\\\\\" or ';' or ':' or '.':\n",
    "        print(\"The special character is : \",i)"
   ]
  }
 ],
 "metadata": {
  "kernelspec": {
   "display_name": "Python 3",
   "language": "python",
   "name": "python3"
  },
  "language_info": {
   "codemirror_mode": {
    "name": "ipython",
    "version": 3
   },
   "file_extension": ".py",
   "mimetype": "text/x-python",
   "name": "python",
   "nbconvert_exporter": "python",
   "pygments_lexer": "ipython3",
   "version": "3.8.5"
  }
 },
 "nbformat": 4,
 "nbformat_minor": 4
}
