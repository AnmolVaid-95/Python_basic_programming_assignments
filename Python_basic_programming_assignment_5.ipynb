{
 "cells": [
  {
   "cell_type": "raw",
   "metadata": {},
   "source": [
    "Write a Python Program to Find LCM?\n",
    "Write a Python Program to Find HCF?\n",
    "Write a Python Program to Convert Decimal to Binary, Octal and Hexadecimal?\n",
    "Write a Python Program To Find ASCII value of a character?\n",
    "Write a Python Program to Make a Simple Calculator with 4 basic mathematical operations?"
   ]
  },
  {
   "cell_type": "raw",
   "metadata": {},
   "source": [
    "Q1. Write a Python Program to Find LCM?"
   ]
  },
  {
   "cell_type": "code",
   "execution_count": 41,
   "metadata": {},
   "outputs": [
    {
     "name": "stdout",
     "output_type": "stream",
     "text": [
      "Enter first number : 22\n",
      "Enter second number: 55\n",
      "LCM of 22 and 55 is 110.0\n"
     ]
    }
   ],
   "source": [
    "# Function to return gcd of a and b. If a ==0 then it will return b and code goes to def lcm function.\n",
    "def gcd(a,b):\n",
    "    if a == 0:\n",
    "        return b\n",
    "    return gcd(b % a, a)\n",
    "\n",
    "# Function to return LCM of two numbers. if a == 0, then lcm becomes 0. \n",
    "def lcm(a,b):\n",
    "    return (a / gcd(a,b))* b\n",
    "\n",
    "# Driver program for function\n",
    "a = int(input(\"Enter first number : \"))\n",
    "b = int(input(\"Enter second number: \"))\n",
    "print('LCM of', a, 'and', b, 'is', lcm(a, b))\n"
   ]
  },
  {
   "cell_type": "raw",
   "metadata": {},
   "source": [
    "Q2. Write a Python Program to Find HCF?"
   ]
  },
  {
   "cell_type": "code",
   "execution_count": 45,
   "metadata": {},
   "outputs": [
    {
     "name": "stdout",
     "output_type": "stream",
     "text": [
      "Enter first number : 22\n",
      "Enter second number : 110\n",
      "GCD of 22 and 110 is 22\n"
     ]
    }
   ],
   "source": [
    "# Function to return gcd of a and b\n",
    "def gcd(a,b):\n",
    "    # Everything divides 0\n",
    "    if (a == 0):\n",
    "        return b\n",
    "    if (b == 0):\n",
    "        return a\n",
    "\n",
    "    # base case\n",
    "    if (a == b):\n",
    "        return a\n",
    "\n",
    "    # a is greater\n",
    "    if (a > b):\n",
    "        return gcd(a-b, b)\n",
    "    return gcd(a, b-a)\n",
    "\n",
    "# Driver program for function\n",
    "a = int(input(\"Enter first number : \"))\n",
    "b = int(input(\"Enter second number : \"))\n",
    "if(gcd(a, b)):\n",
    "    print('GCD of', a, 'and', b, 'is', gcd(a, b))\n",
    "else:\n",
    "    print('not found!!!!!')\n"
   ]
  },
  {
   "cell_type": "raw",
   "metadata": {},
   "source": [
    "Q3. Write a Python Program to Convert Decimal to Binary, Octal and Hexadecimal?"
   ]
  },
  {
   "cell_type": "code",
   "execution_count": 49,
   "metadata": {},
   "outputs": [
    {
     "name": "stdout",
     "output_type": "stream",
     "text": [
      "Enter the number :100\n",
      "The decimal value of 100 is:\n",
      "0b1100100 in binary.\n",
      "0o144 in octal.\n",
      "0x64 in hexadecimal.\n"
     ]
    }
   ],
   "source": [
    "# Python program to convert decimal into other number systems\n",
    "a = int(input(\"Enter the number :\"))\n",
    "print(\"The decimal value of\", a, \"is:\")\n",
    "print(bin(a), \"in binary.\")\n",
    "print(oct(a), \"in octal.\")\n",
    "print(hex(a), \"in hexadecimal.\")"
   ]
  },
  {
   "cell_type": "markdown",
   "metadata": {},
   "source": [
    "Q4. Write a Python Program To Find ASCII value of a character?"
   ]
  },
  {
   "cell_type": "code",
   "execution_count": 57,
   "metadata": {},
   "outputs": [
    {
     "name": "stdout",
     "output_type": "stream",
     "text": [
      "Enter the character : k\n",
      "The ASCII value of 'k' is 107\n"
     ]
    }
   ],
   "source": [
    "# Program to find the ASCII value of the given character\n",
    "\n",
    "b = input(\"Enter the character : \")\n",
    "print(\"The ASCII value of '\" + b + \"' is\", ord(b))\n"
   ]
  },
  {
   "cell_type": "raw",
   "metadata": {},
   "source": [
    "Q5. Write a Python Program to Make a Simple Calculator with 4 basic mathematical operations?"
   ]
  },
  {
   "cell_type": "code",
   "execution_count": 59,
   "metadata": {},
   "outputs": [
    {
     "name": "stdout",
     "output_type": "stream",
     "text": [
      "Enter first number : 55\n",
      "Enter second number : 0\n",
      "To perform addition enter press 1 \n",
      "To perform subtraction enter press 2\n",
      "To perform multiplication enter press 3\n",
      "To perform division enter press 4\n",
      "Enter your choice :4\n",
      "Can't perform Zero division!!!\n",
      "float division by zero\n"
     ]
    }
   ],
   "source": [
    "# function to perform calculation\n",
    "def cal(a,b):\n",
    "    if ch== 1:\n",
    "        return (a+b)\n",
    "    if ch==2:\n",
    "        return (a-b)\n",
    "    if ch==3:\n",
    "        return a*b\n",
    "    if ch==4:\n",
    "        try:\n",
    "            if b==0:\n",
    "                print(\"Can't perform Zero division!!!\")\n",
    "            return a/b\n",
    "        except Exception as e:\n",
    "            print(e)\n",
    "\n",
    "# Driver program for function\n",
    "a = float(input(\"Enter first number : \"))\n",
    "b = float(input(\"Enter second number : \")) \n",
    "print(\"To perform addition enter press 1 \\nTo perform subtraction enter press 2\\nTo perform multiplication enter press 3\\nTo perform division enter press 4\")\n",
    "ch = int(input(\"Enter your choice :\"))\n",
    "\n",
    "cal(a,b)"
   ]
  },
  {
   "cell_type": "code",
   "execution_count": null,
   "metadata": {},
   "outputs": [],
   "source": []
  }
 ],
 "metadata": {
  "kernelspec": {
   "display_name": "Python 3",
   "language": "python",
   "name": "python3"
  },
  "language_info": {
   "codemirror_mode": {
    "name": "ipython",
    "version": 3
   },
   "file_extension": ".py",
   "mimetype": "text/x-python",
   "name": "python",
   "nbconvert_exporter": "python",
   "pygments_lexer": "ipython3",
   "version": "3.8.5"
  }
 },
 "nbformat": 4,
 "nbformat_minor": 4
}
