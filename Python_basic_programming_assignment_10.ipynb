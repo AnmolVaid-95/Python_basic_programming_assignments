{
 "cells": [
  {
   "cell_type": "raw",
   "metadata": {},
   "source": [
    "Write a Python program to find sum of elements in list?\n",
    "Write a Python program to  Multiply all numbers in the list?\n",
    "Write a Python program to find smallest number in a list?\n",
    "Write a Python program to find largest number in a list?\n",
    "Write a Python program to find second largest number in a list?\n",
    "Write a Python program to find N largest elements from a list?\n",
    "Write a Python program to print even numbers in a list?\n",
    "Write a Python program to print odd numbers in a List?\n",
    "Write a Python program to Remove empty List from List?\n",
    "Write a Python program to Cloning or Copying a list?\n",
    "Write a Python program to Count occurrences of an element in a list?"
   ]
  },
  {
   "cell_type": "raw",
   "metadata": {},
   "source": [
    "Q1. Write a Python program to find sum of elements in list?"
   ]
  },
  {
   "cell_type": "code",
   "execution_count": 25,
   "metadata": {},
   "outputs": [
    {
     "name": "stdout",
     "output_type": "stream",
     "text": [
      "Enter number of elements you wish to add : 4\n",
      "44\n",
      "55\n",
      "66\n",
      "1548795314\n",
      "Sum of elements is :  1548795479\n"
     ]
    }
   ],
   "source": [
    "def adding():\n",
    "    l = []\n",
    "    n = int(input(\"Enter number of elements you wish to add : \"))\n",
    "    for i in range(0,n):\n",
    "        a=int(input())\n",
    "        l.append(a)\n",
    "    return l\n",
    "k=[]\n",
    "k = adding()\n",
    "k\n",
    "s=0\n",
    "for j in k:\n",
    "    s+=j\n",
    "print(\"Sum of elements is : \",s)"
   ]
  },
  {
   "cell_type": "raw",
   "metadata": {},
   "source": [
    "Q2. Write a Python program to  Multiply all numbers in the list?"
   ]
  },
  {
   "cell_type": "code",
   "execution_count": 26,
   "metadata": {},
   "outputs": [
    {
     "name": "stdout",
     "output_type": "stream",
     "text": [
      "Enter number of elements you wish to add : 5\n",
      "1\n",
      "2\n",
      "3\n",
      "4\n",
      "5\n",
      "Sum of elements is :  120\n"
     ]
    }
   ],
   "source": [
    "def multi():\n",
    "    l = []\n",
    "    n = int(input(\"Enter number of elements you wish to add : \"))\n",
    "    for i in range(0,n):\n",
    "        a=int(input())\n",
    "        l.append(a)\n",
    "    return l\n",
    "k=[]\n",
    "k = multi()\n",
    "k\n",
    "s=1\n",
    "for j in k:\n",
    "    s=s*j\n",
    "print(\"Sum of elements is : \",s)"
   ]
  },
  {
   "cell_type": "raw",
   "metadata": {},
   "source": [
    "Q3. Write a Python program to find smallest number in a list?"
   ]
  },
  {
   "cell_type": "code",
   "execution_count": 14,
   "metadata": {},
   "outputs": [
    {
     "name": "stdout",
     "output_type": "stream",
     "text": [
      "Enter size of list : 6\n",
      "254\n",
      "1\n",
      "658\n",
      "9874\n",
      "254\n",
      "987\n",
      "Smallest element in list is :  1\n"
     ]
    }
   ],
   "source": [
    "def input_ele():\n",
    "    l=[]\n",
    "    n=int(input(\"Enter size of list : \"))\n",
    "    for i in range(0,n):\n",
    "        a=int(input())\n",
    "        l.append(a)\n",
    "    return l\n",
    "\n",
    "t=[]\n",
    "t= input_ele()\n",
    "t.sort()\n",
    "print(\"Smallest element in list is : \",t[0])"
   ]
  },
  {
   "cell_type": "raw",
   "metadata": {},
   "source": [
    "Q4. Write a Python program to find largest number in a list?"
   ]
  },
  {
   "cell_type": "code",
   "execution_count": 13,
   "metadata": {},
   "outputs": [
    {
     "name": "stdout",
     "output_type": "stream",
     "text": [
      "Enter size of list : 7\n",
      "2589\n",
      "1\n",
      "2487\n",
      "96325\n",
      "741258\n",
      "2\n",
      "6\n",
      "Largest element in list is :  741258\n"
     ]
    }
   ],
   "source": [
    "def input_ele():\n",
    "    l=[]\n",
    "    n=int(input(\"Enter size of list : \"))\n",
    "    for i in range(0,n):\n",
    "        a= int(input())\n",
    "        l.append(a)\n",
    "    return l\n",
    "\n",
    "t=[]\n",
    "t =input_ele()\n",
    "t.sort()\n",
    "k = len(t)\n",
    "print(\"Largest element in list is : \",t[k-1])\n"
   ]
  },
  {
   "cell_type": "raw",
   "metadata": {},
   "source": [
    "Q5. Write a Python program to find second largest number in a list?"
   ]
  },
  {
   "cell_type": "code",
   "execution_count": 15,
   "metadata": {},
   "outputs": [
    {
     "name": "stdout",
     "output_type": "stream",
     "text": [
      "Enter size of list : 6\n",
      "10\n",
      "20\n",
      "30\n",
      "60\n",
      "52\n",
      "65\n",
      "Largest element in list is :  60\n"
     ]
    }
   ],
   "source": [
    "def input_ele():\n",
    "    l=[]\n",
    "    n=int(input(\"Enter size of list : \"))\n",
    "    for i in range(0,n):\n",
    "        a= int(input())\n",
    "        l.append(a)\n",
    "    return l\n",
    "\n",
    "t=[]\n",
    "t =input_ele()\n",
    "t.sort()\n",
    "k = len(t)\n",
    "print(\"Largest element in list is : \",t[k-2])"
   ]
  },
  {
   "cell_type": "raw",
   "metadata": {},
   "source": [
    "Q6. Write a Python program to find N largest elements from a list?"
   ]
  },
  {
   "cell_type": "code",
   "execution_count": 34,
   "metadata": {},
   "outputs": [
    {
     "name": "stdout",
     "output_type": "stream",
     "text": [
      "Enter size of list : 6\n",
      "102\n",
      "302\n",
      "5401\n",
      "2\n",
      "698\n",
      "21\n",
      "Enter the N largest number that you wish to obtain : 3\n",
      "5401\n",
      "698\n",
      "302\n"
     ]
    }
   ],
   "source": [
    "def input_ele():\n",
    "    l=[]\n",
    "    n=int(input(\"Enter size of list : \"))\n",
    "    for i in range(0,n):\n",
    "        a= int(input())\n",
    "        l.append(a)\n",
    "    return l\n",
    "\n",
    "t=[]\n",
    "t =input_ele()\n",
    "t.sort()\n",
    "k = len(t)\n",
    "y= int(input(\"Enter the N largest number that you wish to obtain : \"))\n",
    "\n",
    "for j in t[k-1:k-1-y:-1]:\n",
    "    print(j)"
   ]
  },
  {
   "cell_type": "raw",
   "metadata": {},
   "source": [
    "Q7. Write a Python program to print even numbers in a list?"
   ]
  },
  {
   "cell_type": "code",
   "execution_count": 36,
   "metadata": {},
   "outputs": [
    {
     "name": "stdout",
     "output_type": "stream",
     "text": [
      "Enter number of elements you wish to add : 5\n",
      "222223\n",
      "21\n",
      "2\n",
      "50\n",
      "25\n",
      "Elements that are even in list are as follows :  [2, 50]\n"
     ]
    }
   ],
   "source": [
    "def eeven():\n",
    "    l = []\n",
    "    n = int(input(\"Enter number of elements you wish to add : \"))\n",
    "    for i in range(0,n):\n",
    "        a=int(input())\n",
    "        l.append(a)\n",
    "    return l\n",
    "k=[]\n",
    "k = eeven()\n",
    "k\n",
    "t=[]\n",
    "for j in k:\n",
    "    if j%2==0:\n",
    "        t.append(j)\n",
    "print(\"Elements that are even in list are as follows : \",t)"
   ]
  },
  {
   "cell_type": "raw",
   "metadata": {},
   "source": [
    "Q8. Write a Python program to print odd numbers in a List?"
   ]
  },
  {
   "cell_type": "code",
   "execution_count": 38,
   "metadata": {},
   "outputs": [
    {
     "name": "stdout",
     "output_type": "stream",
     "text": [
      "Enter number of elements you wish to add : 5\n",
      "11\n",
      "2\n",
      "33\n",
      "51\n",
      "6\n",
      "Elements that are odd in list are as follows :  [11, 33, 51]\n"
     ]
    }
   ],
   "source": [
    "def oodd():\n",
    "    l = []\n",
    "    n = int(input(\"Enter number of elements you wish to add : \"))\n",
    "    for i in range(0,n):\n",
    "        a=int(input())\n",
    "        l.append(a)\n",
    "    return l\n",
    "k=[]\n",
    "k = oodd()\n",
    "k\n",
    "t=[]\n",
    "for j in k:\n",
    "    if j%2!=0:\n",
    "        t.append(j)\n",
    "print(\"Elements that are odd in list are as follows : \",t)"
   ]
  },
  {
   "cell_type": "raw",
   "metadata": {},
   "source": [
    "Q9. Write a Python program to Remove empty List from List?"
   ]
  },
  {
   "cell_type": "code",
   "execution_count": 55,
   "metadata": {},
   "outputs": [
    {
     "name": "stdout",
     "output_type": "stream",
     "text": [
      "1\n",
      "2\n",
      "3\n",
      "87\n",
      "65\n",
      "5\n"
     ]
    }
   ],
   "source": [
    "l = [1,2,3,[],87,65,5]\n",
    "l2=filter(None,l)\n",
    "for i in l2:\n",
    "    print(i)"
   ]
  },
  {
   "cell_type": "raw",
   "metadata": {},
   "source": [
    "Q10. Write a Python program to Cloning or Copying a list?"
   ]
  },
  {
   "cell_type": "code",
   "execution_count": 56,
   "metadata": {},
   "outputs": [
    {
     "name": "stdout",
     "output_type": "stream",
     "text": [
      "Enter size of list 3\n",
      "1\n",
      "2\n",
      "3\n",
      "List entered by user is :  [1, 2, 3]\n",
      "Clonned list is : [1, 2, 3]\n"
     ]
    }
   ],
   "source": [
    "def in_elm():\n",
    "    l=[]\n",
    "    n = int(input(\"Enter size of list \"))\n",
    "    for i in range(0,n):\n",
    "        a=int(input())\n",
    "        l.append(a)\n",
    "    return l\n",
    "\n",
    "k=[]\n",
    "k = in_elm()\n",
    "print(\"List entered by user is : \",k)\n",
    "\n",
    "p=[]\n",
    "p=k\n",
    "print(\"Clonned list is :\",p)"
   ]
  },
  {
   "cell_type": "raw",
   "metadata": {},
   "source": [
    "Q11. Write a Python program to Count occurrences of an element in a list?"
   ]
  },
  {
   "cell_type": "code",
   "execution_count": 63,
   "metadata": {},
   "outputs": [
    {
     "name": "stdout",
     "output_type": "stream",
     "text": [
      "Enter size of list 10\n",
      "1\n",
      "1\n",
      "1\n",
      "1\n",
      "1\n",
      "1\n",
      "15\n",
      "5\n",
      "55\n",
      "5\n",
      "Enter elment to be searched :1\n",
      "Total number of times :  6\n"
     ]
    }
   ],
   "source": [
    "def in_elmn():\n",
    "    l=[]\n",
    "    n = int(input(\"Enter size of list \"))\n",
    "    for i in range(0,n):\n",
    "        a=int(input())\n",
    "        l.append(a)\n",
    "    return l\n",
    "\n",
    "k = in_elmn()\n",
    "n = int(input(\"Enter elment to be searched :\"))\n",
    "c=0\n",
    "for j in k:\n",
    "    if j==n:\n",
    "        c = c+1\n",
    "print(\"Total number of times : \",c)"
   ]
  }
 ],
 "metadata": {
  "kernelspec": {
   "display_name": "Python 3",
   "language": "python",
   "name": "python3"
  },
  "language_info": {
   "codemirror_mode": {
    "name": "ipython",
    "version": 3
   },
   "file_extension": ".py",
   "mimetype": "text/x-python",
   "name": "python",
   "nbconvert_exporter": "python",
   "pygments_lexer": "ipython3",
   "version": "3.8.5"
  }
 },
 "nbformat": 4,
 "nbformat_minor": 4
}
