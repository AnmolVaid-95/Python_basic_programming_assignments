{
 "cells": [
  {
   "cell_type": "raw",
   "metadata": {},
   "source": [
    "Write a Python program to Extract Unique values dictionary values?\n",
    "Write a Python program to find the sum of all items in a dictionary?\n",
    "Write a Python program to Merging two Dictionaries?\n",
    "Write a Python program to convert key-values list to flat dictionary?\n",
    "Write a Python program to insertion at the beginning in OrderedDict?\n",
    "Write a Python program to check order of character in string using OrderedDict()?\n",
    "Write a Python program to sort Python Dictionaries by Key or Value?"
   ]
  },
  {
   "cell_type": "raw",
   "metadata": {},
   "source": [
    "Q1. Write a Python program to Extract Unique values dictionary values?"
   ]
  },
  {
   "cell_type": "code",
   "execution_count": 5,
   "metadata": {},
   "outputs": [
    {
     "name": "stdout",
     "output_type": "stream",
     "text": [
      "Enter number of key and values pait that you will input : 9\n",
      "Enter key in string format only : asd\n",
      "Enter value in integer :1\n",
      "Enter key in string format only : q\n",
      "Enter value in integer :22\n",
      "Enter key in string format only : t\n",
      "Enter value in integer :55\n",
      "Enter key in string format only : re\n",
      "Enter value in integer :1\n",
      "Enter key in string format only : tre\n",
      "Enter value in integer :55\n",
      "Enter key in string format only : eg\n",
      "Enter value in integer :66\n",
      "Enter key in string format only : y\n",
      "Enter value in integer :99\n",
      "Enter key in string format only : er\n",
      "Enter value in integer :7\n",
      "Enter key in string format only : bg\n",
      "Enter value in integer :54\n",
      "Unique values are : [1, 22, 55, 66, 99, 7, 54]\n"
     ]
    }
   ],
   "source": [
    "b={}\n",
    "n= int(input(\"Enter number of key and values pait that you will input : \"))\n",
    "for i in range(n):\n",
    "    k=input(\"Enter key in string format only : \")\n",
    "    v=int(input(\"Enter value in integer :\"))\n",
    "    b.update({k:v})\n",
    "    \n",
    "l=[]\n",
    "\n",
    "for i in b.values():\n",
    "    if i in l:\n",
    "        continue\n",
    "    else:\n",
    "        l.append(i)\n",
    "print(\"Unique values are :\",l)"
   ]
  },
  {
   "cell_type": "raw",
   "metadata": {},
   "source": [
    "Q2. Write a Python program to find the sum of all items in a dictionary?"
   ]
  },
  {
   "cell_type": "code",
   "execution_count": 3,
   "metadata": {},
   "outputs": [
    {
     "name": "stdout",
     "output_type": "stream",
     "text": [
      "Enter number of integers : 5\n",
      "Enter key in string format only : ac\n",
      "Enter value in integer only : 1\n",
      "Enter key in string format only : eff\n",
      "Enter value in integer only : 11\n",
      "Enter key in string format only : ht\n",
      "Enter value in integer only : 55\n",
      "Enter key in string format only : urg\n",
      "Enter value in integer only : 99\n",
      "Enter key in string format only : re\n",
      "Enter value in integer only : 33\n",
      "Final sum after adding the values of given list is : 199\n"
     ]
    }
   ],
   "source": [
    "u={}\n",
    "n= int(input(\"Enter number of integers : \"))\n",
    "for i in range(n):\n",
    "    k=input(\"Enter key in string format only : \")\n",
    "    v=int(input(\"Enter value in integer only : \"))\n",
    "    u.update({k:v})\n",
    "\n",
    "s=0\n",
    "for i in u.values():\n",
    "    s+=i\n",
    "print(\"Final sum after adding the values of given list is :\",s)"
   ]
  },
  {
   "cell_type": "raw",
   "metadata": {},
   "source": [
    "Q3. Write a Python program to Merging two Dictionaries?"
   ]
  },
  {
   "cell_type": "code",
   "execution_count": 6,
   "metadata": {},
   "outputs": [
    {
     "name": "stdout",
     "output_type": "stream",
     "text": [
      "Enter number of integers : 3\n",
      "Enter key in string format only : as\n",
      "Enter value in integer only : 66\n",
      "Enter key in string format only : e\n",
      "Enter value in integer only : 99\n",
      "Enter key in string format only : jh\n",
      "Enter value in integer only : 69\n",
      "Enter number of integers : 4\n",
      "Enter key in string format only : fgh\n",
      "Enter value in integer only : 85\n",
      "Enter key in string format only : tew\n",
      "Enter value in integer only : 996\n",
      "Enter key in string format only : gf\n",
      "Enter value in integer only : 165\n",
      "Enter key in string format only : wsfw\n",
      "Enter value in integer only : 6325\n",
      "After merging dictionaries are : \n",
      "{'as': 66, 'e': 99, 'jh': 69, 'fgh': 85, 'tew': 996, 'gf': 165, 'wsfw': 6325}\n"
     ]
    }
   ],
   "source": [
    "u1={}\n",
    "n1= int(input(\"Enter number of integers : \"))\n",
    "for i in range(n1):\n",
    "    k1=input(\"Enter key in string format only : \")\n",
    "    v1=int(input(\"Enter value in integer only : \"))\n",
    "    u1.update({k1:v1})\n",
    "    \n",
    "u2={}\n",
    "n2= int(input(\"Enter number of integers : \"))\n",
    "for i in range(n2):\n",
    "    k2=input(\"Enter key in string format only : \")\n",
    "    v2=int(input(\"Enter value in integer only : \"))\n",
    "    u2.update({k2:v2})\n",
    "    \n",
    "print(\"After merging dictionaries are : \")\n",
    "u1.update(u2)\n",
    "print(u1)"
   ]
  },
  {
   "cell_type": "raw",
   "metadata": {},
   "source": [
    "Q4. Write a Python program to convert key-values list to flat dictionary?"
   ]
  },
  {
   "cell_type": "code",
   "execution_count": 24,
   "metadata": {},
   "outputs": [
    {
     "name": "stdout",
     "output_type": "stream",
     "text": [
      "The original dictionary is : {'month': [1, 2, 3], 'name': ['Jan', 'Feb', 'March']}\n",
      "Flattened dictionary : {1: 'Jan', 2: 'Feb', 3: 'March'}\n"
     ]
    }
   ],
   "source": [
    "from itertools import product\n",
    "\n",
    "test_dict = {'month' : [1, 2, 3], 'name' : ['Jan', 'Feb', 'March']}\n",
    "\n",
    "\n",
    "print(\"The original dictionary is : \" + str(test_dict))\n",
    "\n",
    "\n",
    "res = dict(zip(test_dict['month'], test_dict['name']))\n",
    "\n",
    "\n",
    "print(\"Flattened dictionary : \" + str(res))\n"
   ]
  },
  {
   "cell_type": "raw",
   "metadata": {},
   "source": [
    "Q5. Write a Python program to insertion at the beginning in OrderedDict?"
   ]
  },
  {
   "cell_type": "code",
   "execution_count": 1,
   "metadata": {},
   "outputs": [
    {
     "name": "stdout",
     "output_type": "stream",
     "text": [
      "Resultant Dictionary : OrderedDict([('man', '3'), ('aks', '1'), ('nik', '2')])\n"
     ]
    }
   ],
   "source": [
    "# Python code to demonstrate\n",
    "# insertion of items in beginning of ordered dict\n",
    "from collections import OrderedDict\n",
    "\n",
    "# initialising ordered_dict\n",
    "iniordered_dict = OrderedDict([('aks', '1'), ('nik', '2')])\n",
    "\n",
    "# inserting items in starting of dict\n",
    "iniordered_dict.update({'man':'3'})\n",
    "iniordered_dict.move_to_end('man', last = False)\n",
    "\n",
    "# print result\n",
    "print (\"Resultant Dictionary : \"+str(iniordered_dict))\n"
   ]
  },
  {
   "cell_type": "raw",
   "metadata": {},
   "source": [
    "Q6. Write a Python program to check order of character in string using OrderedDict()?"
   ]
  },
  {
   "cell_type": "code",
   "execution_count": 7,
   "metadata": {},
   "outputs": [
    {
     "name": "stdout",
     "output_type": "stream",
     "text": [
      "true\n"
     ]
    }
   ],
   "source": [
    "from collections import OrderedDict\n",
    "\n",
    "def checkOrder(input, pattern):\n",
    "    # create empty OrderedDict\n",
    "    # output will be like {'a': None,'b': None, 'c': None}\n",
    "    dict = OrderedDict.fromkeys(input)\n",
    "\n",
    "    # traverse generated OrderedDict parallel with\n",
    "    # pattern string to check if order of characters\n",
    "    # are same or not\n",
    "    ptrlen = 0\n",
    "    for key,value in dict.items():\n",
    "        if (key == pattern[ptrlen]):\n",
    "            ptrlen = ptrlen + 1\n",
    "        \n",
    "        # check if we have traverse complete\n",
    "        # pattern string\n",
    "        if (ptrlen == (len(pattern))):\n",
    "            return 'true'\n",
    "\n",
    "    # if we come out from for loop that means\n",
    "    # order was mismatched\n",
    "    return 'false'\n",
    "\n",
    "# Driver program\n",
    "if __name__ == \"__main__\":\n",
    "    input = 'Roses are red'\n",
    "    pattern = 'od'\n",
    "    print (checkOrder(input,pattern))\n"
   ]
  },
  {
   "cell_type": "raw",
   "metadata": {},
   "source": [
    "Q7. Write a Python program to sort Python Dictionaries by Key or Value?"
   ]
  },
  {
   "cell_type": "code",
   "execution_count": 12,
   "metadata": {},
   "outputs": [
    {
     "name": "stdout",
     "output_type": "stream",
     "text": [
      "{'a': 1, 'c': 4, 'b': 9}\n"
     ]
    }
   ],
   "source": [
    "dict1 = {'a': 1, 'b': 9, 'c': 4}\n",
    "sorted_values = sorted(dict1.values()) # Sort the values\n",
    "sorted_dict = {}\n",
    "\n",
    "for i in sorted_values:\n",
    "    for k in dict1.keys():\n",
    "        if dict1[k] == i:\n",
    "            sorted_dict[k] = dict1[k]\n",
    "            break\n",
    "\n",
    "print(sorted_dict)"
   ]
  }
 ],
 "metadata": {
  "kernelspec": {
   "display_name": "Python 3",
   "language": "python",
   "name": "python3"
  }
 },
 "nbformat": 4,
 "nbformat_minor": 4
}
